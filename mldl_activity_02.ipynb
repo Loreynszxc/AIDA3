{
  "nbformat": 4,
  "nbformat_minor": 0,
  "metadata": {
    "colab": {
      "provenance": [],
      "include_colab_link": true
    },
    "kernelspec": {
      "name": "python3",
      "display_name": "Python 3"
    },
    "language_info": {
      "name": "python"
    }
  },
  "cells": [
    {
      "cell_type": "markdown",
      "metadata": {
        "id": "view-in-github",
        "colab_type": "text"
      },
      "source": [
        "<a href=\"https://colab.research.google.com/github/Loreynszxc/AIDA3/blob/main/mldl_activity_02.ipynb\" target=\"_parent\"><img src=\"https://colab.research.google.com/assets/colab-badge.svg\" alt=\"Open In Colab\"/></a>"
      ]
    },
    {
      "cell_type": "markdown",
      "source": [
        "# Activity 02: Fundamentals of Linear Algebra for Machine Learning and Data Science (Part 1)\n",
        "$_{\\text{Machine Learning / Deep Learning Course | © D.J. Lopez 2023}}$"
      ],
      "metadata": {
        "id": "C9NmuVsyJ_aC"
      }
    },
    {
      "cell_type": "code",
      "execution_count": null,
      "metadata": {
        "id": "P42zJ6Ap3fQr"
      },
      "outputs": [],
      "source": [
        "## Don't edit this cell nor import any other libraries in any part of this notebook\n",
        "\n",
        "import matplotlib.pyplot as plt\n",
        "import numpy as np\n",
        "import pandas as pd\n",
        "import seaborn as sns"
      ]
    },
    {
      "cell_type": "markdown",
      "source": [
        "## Part 1\n",
        "\n",
        "Using the dictionary `word_dict`: \n",
        "\n",
        "*   Determine the similarity of the keys to each other. \n",
        "*   Plot the similarity and provide insights using the plotted visualization.\n",
        "*   Display a confusion matrix with values similar to the table below\n",
        "\n",
        "|    |   w1   |   w2   |   w3  |   w4  |\n",
        "|----|--------|--------|-------|-------|\n",
        "|w1  |  1     |  0.793 |  0.823|  0.609|\n",
        "|w2  | 0.793  |  1     |  0.999|  0    |\n",
        "|w3  | 0.823  |  0.999 |  1    |  0.051|\n",
        "|w4  | 0.609  |  0     |  0.051|  1    |"
      ],
      "metadata": {
        "id": "BVyC39ev3n-j"
      }
    },
    {
      "cell_type": "code",
      "source": [
        "word_dict = {'conflagration': ['0.0513', '0.9788'],\n",
        "             'mayhem': ['0.7540', '0.8824'],\n",
        "             'cataclysm': ['0.6115', '0.9788'],\n",
        "             'serenity': ['-0.8824', '0.754']}"
      ],
      "metadata": {
        "id": "abFZh3X23m_-"
      },
      "execution_count": null,
      "outputs": []
    },
    {
      "cell_type": "code",
      "source": [
        "# Insert code here"
      ],
      "metadata": {
        "id": "n0XtytgpKtXs"
      },
      "execution_count": null,
      "outputs": []
    },
    {
      "cell_type": "markdown",
      "source": [
        "## Part 2\n",
        "\n",
        "In problem case number of the `mldl_lec_lab_02.ipynb` the quota will be met on Sunday which is the succeeding week. \n",
        "Perform three different adjustments/modifications on the variables to successfully meet the quota within the week. \n",
        "Justify your adjustments with supporting code to meet the quota and provide business insights."
      ],
      "metadata": {
        "id": "cuPARXa2_0uh"
      }
    },
    {
      "cell_type": "code",
      "source": [
        "# Insert code here"
      ],
      "metadata": {
        "id": "mQXisCs-JACn"
      },
      "execution_count": null,
      "outputs": []
    },
    {
      "cell_type": "markdown",
      "source": [
        "### Part 3"
      ],
      "metadata": {
        "id": "Jbq6n6y3A1Vf"
      }
    },
    {
      "cell_type": "markdown",
      "source": [
        "### The Gramian Matrix\n",
        "A special type of inner product is the inner product between the transpose of a matrix and itself. We can mathematically represent the [Gramian matrix](https://en.wikipedia.org/wiki/Gram_matrix) as:\n",
        "$$G = X^T\\cdot X$$\n",
        "The Gramian/ gram matrix is an important matrix in machine learning. It can be used in several applications such as analysis of parameters in a dataset, a data representation of a dataset, and as a regularization term in regression algorithms."
      ],
      "metadata": {
        "id": "aHxGJ1g8A4_A"
      }
    },
    {
      "cell_type": "markdown",
      "source": [
        "To determine the similarity (cosine) for all of the features of a dataset once we need to obtain the inverse of the Gram Matrix $G^{-1}$ and individually divide each element in $G^{-1}$ with the norm of the repective feature pair considered for correlation analysis. In this activity, we will be using solar irradiance for data exploration."
      ],
      "metadata": {
        "id": "YL49jw7_K7D2"
      }
    },
    {
      "cell_type": "markdown",
      "source": [
        "Obtain the dataset [solar_data.csv](https://drive.google.com/file/d/134H03g24vQ5UcRT7GDLQX510HVvCgK3M/view?usp=share_link) and perform analysis of the parameters in the dataset. \n",
        "The dataset provided is a satellite (Himawari) numerical data. The columns are temperature (surface temperature), [DHI, DNI, GHI](https://thesolarlabs.com/ros/solar-irradiance-concepts/#:~:text=DHI%20is%20the%20component%20of,beam%20component%20of%20the%20radiation.), [Relative Humidity](https://www.weather.gov/lmk/humidity),[Surface Albedo](https://greenly.earth/en-us/blog/ecology-news/what-is-the-albedo-effect-and-how-does-it-impact-global-warming), [Surface Pressure](https://www.allthingsnature.org/what-is-surface-pressure.htm), [Wind Speed](https://www.lawinsider.com/dictionary/wind-speed). The data is collected can be used for forecasting certain variables such as but not limited to the GHI and Wind Speed.\n",
        "\n",
        "Use the Gramian Matrix in your analysis. Identify the the top 3 relationships and explain why they are similar. Provide references and citations. \n",
        "\n"
      ],
      "metadata": {
        "id": "yPNO2zEpA6a9"
      }
    },
    {
      "cell_type": "code",
      "source": [
        "df = pd.read_csv('/content/data/solar_data.csv')"
      ],
      "metadata": {
        "id": "dwetagDV5Ecr"
      },
      "execution_count": null,
      "outputs": []
    },
    {
      "cell_type": "code",
      "source": [
        "# Insert code here"
      ],
      "metadata": {
        "id": "x9kKIEtJKsho"
      },
      "execution_count": null,
      "outputs": []
    },
    {
      "cell_type": "markdown",
      "source": [
        "---------------------------------------------------------------------------------------------------END OF ASSESSMENT----------------------------------------------------------------------------------------------"
      ],
      "metadata": {
        "id": "ExXzL2SWKgKc"
      }
    }
  ]
}